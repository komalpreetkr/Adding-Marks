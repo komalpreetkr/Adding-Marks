{
  "nbformat": 4,
  "nbformat_minor": 0,
  "metadata": {
    "colab": {
      "provenance": [],
      "authorship_tag": "ABX9TyMEJkcSFxk1/WDdAiJVMwen",
      "include_colab_link": true
    },
    "kernelspec": {
      "name": "python3",
      "display_name": "Python 3"
    },
    "language_info": {
      "name": "python"
    }
  },
  "cells": [
    {
      "cell_type": "markdown",
      "metadata": {
        "id": "view-in-github",
        "colab_type": "text"
      },
      "source": [
        "<a href=\"https://colab.research.google.com/github/komalpreetkr/Adding-Marks/blob/main/Untitled5.ipynb\" target=\"_parent\"><img src=\"https://colab.research.google.com/assets/colab-badge.svg\" alt=\"Open In Colab\"/></a>"
      ]
    },
    {
      "cell_type": "code",
      "execution_count": 1,
      "metadata": {
        "colab": {
          "base_uri": "https://localhost:8080/"
        },
        "id": "PLtmuSkYX87s",
        "outputId": "88e4371a-0d1b-402b-d91d-bb870eb63555"
      },
      "outputs": [
        {
          "output_type": "stream",
          "name": "stdout",
          "text": [
            "(i) [11, 12, 13, 14, 50, 60]\n",
            "(ii) [12, 14, 50, 60]\n",
            "(iii) [12, 14, 50, 60]\n",
            "(iv) [60, 50, 14, 12]\n",
            "(v) 13 is not present in L\n",
            "(vi) Number of elements: 4\n",
            "(vii) Sum of elements: 136\n",
            "(viii) Sum of odd numbers: 0\n",
            "(ix) Sum of even numbers: 136\n",
            "(x) Sum of prime numbers: 0\n",
            "(xi) []\n",
            "(xii) L is deleted.\n"
          ]
        }
      ],
      "source": [
        "# Initial list\n",
        "L = [11, 12, 13, 14]\n",
        "\n",
        "# (i) Add 50 and 60 to L\n",
        "L.append(50)\n",
        "L.append(60)\n",
        "print(\"(i)\", L)\n",
        "\n",
        "# (ii) Remove 11 and 13 from L\n",
        "L.remove(11)\n",
        "L.remove(13)\n",
        "print(\"(ii)\", L)\n",
        "\n",
        "# (iii) Sort L in ascending order\n",
        "L.sort()\n",
        "print(\"(iii)\", L)\n",
        "\n",
        "# (iv) Sort L in descending order\n",
        "L.sort(reverse=True)\n",
        "print(\"(iv)\", L)\n",
        "\n",
        "# (v) Search for 13 in L\n",
        "if 13 in L:\n",
        "    print(\"(v) 13 is present in L\")\n",
        "else:\n",
        "    print(\"(v) 13 is not present in L\")\n",
        "\n",
        "# (vi) Count the number of elements in L\n",
        "print(\"(vi) Number of elements:\", len(L))\n",
        "\n",
        "# (vii) Sum all the elements in L\n",
        "print(\"(vii) Sum of elements:\", sum(L))\n",
        "\n",
        "# (viii) Sum all ODD numbers in L\n",
        "odd_sum = sum(i for i in L if i % 2 != 0)\n",
        "print(\"(viii) Sum of odd numbers:\", odd_sum)\n",
        "\n",
        "# (ix) Sum all EVEN numbers in L\n",
        "even_sum = sum(i for i in L if i % 2 == 0)\n",
        "print(\"(ix) Sum of even numbers:\", even_sum)\n",
        "\n",
        "# (x) Sum all PRIME numbers in L\n",
        "def is_prime(n):\n",
        "    if n <= 1:\n",
        "        return False\n",
        "    for i in range(2, int(n**0.5)+1):\n",
        "        if n % i == 0:\n",
        "            return False\n",
        "    return True\n",
        "\n",
        "prime_sum = sum(i for i in L if is_prime(i))\n",
        "print(\"(x) Sum of prime numbers:\", prime_sum)\n",
        "\n",
        "# (xi) Clear all elements in L\n",
        "L.clear()\n",
        "print(\"(xi)\", L)\n",
        "\n",
        "# (xii) Delete L\n",
        "del L\n",
        "# print(L)  # This would give an error because L is deleted\n",
        "print(\"(xii) L is deleted.\")\n"
      ]
    },
    {
      "cell_type": "code",
      "source": [
        "D = {1:5.6, 2:7.8, 3:6.6, 4:8.7, 5:7.7}\n",
        "\n",
        "# (i) Add key=8, value=8.8\n",
        "D[8] = 8.8\n",
        "print(\"(i)\", D)\n",
        "\n",
        "# (ii) Remove key=2\n",
        "D.pop(2, None)\n",
        "print(\"(ii)\", D)\n",
        "\n",
        "# (iii) Check if key 6 is present\n",
        "print(\"(iii) Key 6 present?\" , 6 in D)\n",
        "\n",
        "# (iv) Count elements\n",
        "print(\"(iv) Number of elements:\", len(D))\n",
        "\n",
        "# (v) Add all values\n",
        "print(\"(v) Sum of all values:\", sum(D.values()))\n",
        "\n",
        "# (vi) Update value of 3 to 7.1\n",
        "D[3] = 7.1\n",
        "print(\"(vi)\", D)\n",
        "\n",
        "# (vii) Clear the dictionary\n",
        "D.clear()\n",
        "print(\"(vii)\", D)\n"
      ],
      "metadata": {
        "colab": {
          "base_uri": "https://localhost:8080/"
        },
        "id": "G55iVtG9YSMM",
        "outputId": "ec423528-0d9d-42b4-eef3-b2b9f9b3e5e8"
      },
      "execution_count": 1,
      "outputs": [
        {
          "output_type": "stream",
          "name": "stdout",
          "text": [
            "(i) {1: 5.6, 2: 7.8, 3: 6.6, 4: 8.7, 5: 7.7, 8: 8.8}\n",
            "(ii) {1: 5.6, 3: 6.6, 4: 8.7, 5: 7.7, 8: 8.8}\n",
            "(iii) Key 6 present? False\n",
            "(iv) Number of elements: 5\n",
            "(v) Sum of all values: 37.4\n",
            "(vi) {1: 5.6, 3: 7.1, 4: 8.7, 5: 7.7, 8: 8.8}\n",
            "(vii) {}\n"
          ]
        }
      ]
    },
    {
      "cell_type": "code",
      "source": [
        "S1 = {10, 20, 30, 40, 50, 60}\n",
        "S2 = {40, 50, 60, 70, 80, 90}\n",
        "\n",
        "# (i) Add 55 and 66 to S1\n",
        "S1.add(55)\n",
        "S1.add(66)\n",
        "print(\"(i)\", S1)\n",
        "\n",
        "# (ii) Remove 10 and 30 from S1\n",
        "S1.discard(10)\n",
        "S1.discard(30)\n",
        "print(\"(ii)\", S1)\n",
        "\n",
        "# (iii) Check if 40 is present in S1\n",
        "print(\"(iii) Is 40 in S1?\", 40 in S1)\n",
        "\n",
        "# (iv) Union of S1 and S2\n",
        "print(\"(iv) Union:\", S1.union(S2))\n",
        "\n",
        "# (v) Intersection of S1 and S2\n",
        "print(\"(v) Intersection:\", S1.intersection(S2))\n",
        "\n",
        "# (vi) S1 - S2\n",
        "print(\"(vi) S1 - S2:\", S1.difference(S2))\n"
      ],
      "metadata": {
        "colab": {
          "base_uri": "https://localhost:8080/"
        },
        "id": "dczWCzq_LlsU",
        "outputId": "cd3a39ea-49c1-44d1-9726-855b42c822f4"
      },
      "execution_count": 2,
      "outputs": [
        {
          "output_type": "stream",
          "name": "stdout",
          "text": [
            "(i) {50, 66, 20, 55, 40, 10, 60, 30}\n",
            "(ii) {50, 66, 20, 55, 40, 60}\n",
            "(iii) Is 40 in S1? True\n",
            "(iv) Union: {66, 70, 40, 80, 50, 20, 55, 90, 60}\n",
            "(v) Intersection: {40, 50, 60}\n",
            "(vi) S1 - S2: {66, 20, 55}\n"
          ]
        }
      ]
    },
    {
      "cell_type": "code",
      "source": [
        "import random\n",
        "import string\n",
        "\n",
        "# (i) 100 random strings of length between 6 and 8\n",
        "print(\"(i) 100 Random Strings:\")\n",
        "for _ in range(100):\n",
        "    length = random.randint(6, 8)\n",
        "    rand_str = ''.join(random.choices(string.ascii_letters, k=length))\n",
        "    print(rand_str)\n",
        "\n",
        "# (ii) Prime numbers between 600 and 800\n",
        "print(\"\\n(ii) Prime numbers between 600 and 800:\")\n",
        "def is_prime(n):\n",
        "    if n < 2:\n",
        "        return False\n",
        "    for i in range(2, int(n**0.5)+1):\n",
        "        if n % i == 0:\n",
        "            return False\n",
        "    return True\n",
        "\n",
        "primes = [x for x in range(600, 801) if is_prime(x)]\n",
        "print(primes)\n",
        "\n",
        "# (iii) Numbers between 100 and 1000 divisible by both 7 and 9\n",
        "print(\"\\n(iii) Numbers divisible by 7 and 9 between 100 and 1000:\")\n",
        "divisible = [x for x in range(100, 1001) if x % 7 == 0 and x % 9 == 0]\n",
        "print(divisible)\n"
      ],
      "metadata": {
        "colab": {
          "base_uri": "https://localhost:8080/"
        },
        "id": "EVwEcdmBLnTp",
        "outputId": "cd80cd7a-b57d-410f-8022-15bf32e42388"
      },
      "execution_count": 3,
      "outputs": [
        {
          "output_type": "stream",
          "name": "stdout",
          "text": [
            "(i) 100 Random Strings:\n",
            "OCXohd\n",
            "JmeErM\n",
            "PTGeuirF\n",
            "sxklPCCy\n",
            "VQVVBMll\n",
            "YxFmeF\n",
            "hENtVC\n",
            "ZQBgXw\n",
            "gymAvcWT\n",
            "kaHfyAzl\n",
            "ShDCjY\n",
            "aXcqugo\n",
            "vBqLyxG\n",
            "zVnEzAj\n",
            "LcVanCm\n",
            "arEiUipI\n",
            "QkJRnkC\n",
            "ihTCzc\n",
            "WMEvnsH\n",
            "YgunSgT\n",
            "HHzKBD\n",
            "rDrZmDtb\n",
            "edoMhYbt\n",
            "riZHlKz\n",
            "XvRDjLU\n",
            "aOinecdC\n",
            "AkIWqAw\n",
            "malhYg\n",
            "Pfwuxe\n",
            "CSulNk\n",
            "OEWpyIl\n",
            "bXtnGbLO\n",
            "RzpsjI\n",
            "upYvpbuD\n",
            "TgkEoa\n",
            "wRvPrUG\n",
            "YDItfslw\n",
            "CzNOap\n",
            "SoGwSK\n",
            "XyJSCS\n",
            "ayLbzI\n",
            "pTpVRGPo\n",
            "YciHhh\n",
            "AYHlUWR\n",
            "jQkJnyi\n",
            "CTJcYuS\n",
            "SdxjoJC\n",
            "tlZovDoB\n",
            "awZewjq\n",
            "lPEoJZkh\n",
            "kEgOTvkO\n",
            "FOkUIfZJ\n",
            "gkdPxBQw\n",
            "INHZjqLS\n",
            "EZkYnf\n",
            "cVrzJF\n",
            "boSkLnKG\n",
            "UvUSUGmL\n",
            "JnWpzp\n",
            "RBUVrF\n",
            "lFTHRe\n",
            "FiDkoP\n",
            "PODNNnR\n",
            "lahPBVmZ\n",
            "JJcLwaM\n",
            "rxNotqL\n",
            "JsDTfn\n",
            "tURGpybt\n",
            "NWDOBSY\n",
            "OgAdpe\n",
            "sXOkTu\n",
            "ZNNwcy\n",
            "EjyRmDLi\n",
            "VjfEEyxo\n",
            "ivGWEqxW\n",
            "ZBIcsu\n",
            "xXlrvux\n",
            "VIuzbdXv\n",
            "CHnIqOa\n",
            "ExQhKPNT\n",
            "KAxFVMl\n",
            "LkgstVZX\n",
            "ebELdaJ\n",
            "iOYTndl\n",
            "OXSAsS\n",
            "UGCVOG\n",
            "icZIKHS\n",
            "AlaFMPV\n",
            "jmrHiux\n",
            "EvIdTIIr\n",
            "KeiLUb\n",
            "gClwIhVI\n",
            "jZzeiyJe\n",
            "InEqbgIh\n",
            "kduwFU\n",
            "ZtAPKz\n",
            "QPXGLI\n",
            "ZgNGEv\n",
            "fIcBJaNP\n",
            "eNKoeF\n",
            "\n",
            "(ii) Prime numbers between 600 and 800:\n",
            "[601, 607, 613, 617, 619, 631, 641, 643, 647, 653, 659, 661, 673, 677, 683, 691, 701, 709, 719, 727, 733, 739, 743, 751, 757, 761, 769, 773, 787, 797]\n",
            "\n",
            "(iii) Numbers divisible by 7 and 9 between 100 and 1000:\n",
            "[126, 189, 252, 315, 378, 441, 504, 567, 630, 693, 756, 819, 882, 945]\n"
          ]
        }
      ]
    },
    {
      "cell_type": "code",
      "source": [
        "# Create two lists\n",
        "L1 = [random.randint(10, 30) for _ in range(10)]\n",
        "L2 = [random.randint(10, 30) for _ in range(10)]\n",
        "\n",
        "print(\"L1 =\", L1)\n",
        "print(\"L2 =\", L2)\n",
        "\n",
        "# (i) Common numbers\n",
        "common = list(set(L1) & set(L2))\n",
        "print(\"(i) Common:\", common)\n",
        "\n",
        "# (ii) Unique numbers (in both)\n",
        "unique = list((set(L1) ^ set(L2)))\n",
        "print(\"(ii) Unique:\", unique)\n",
        "\n",
        "# (iii) Minimum in both lists\n",
        "print(\"(iii) Min of L1:\", min(L1), \", Min of L2:\", min(L2))\n",
        "\n",
        "# (iv) Maximum in both lists\n",
        "print(\"(iv) Max of L1:\", max(L1), \", Max of L2:\", max(L2))\n",
        "\n",
        "# (v) Sum of both lists\n",
        "print(\"(v) Sum of L1:\", sum(L1), \", Sum of L2:\", sum(L2))\n"
      ],
      "metadata": {
        "colab": {
          "base_uri": "https://localhost:8080/"
        },
        "id": "j2pUh3sOLtlK",
        "outputId": "3889fea4-0d6c-44c3-c3dc-630a62587aac"
      },
      "execution_count": 4,
      "outputs": [
        {
          "output_type": "stream",
          "name": "stdout",
          "text": [
            "L1 = [12, 18, 21, 26, 11, 18, 17, 13, 26, 13]\n",
            "L2 = [29, 21, 14, 23, 14, 10, 24, 16, 27, 25]\n",
            "(i) Common: [21]\n",
            "(ii) Unique: [10, 11, 12, 13, 14, 16, 17, 18, 23, 24, 25, 26, 27, 29]\n",
            "(iii) Min of L1: 11 , Min of L2: 10\n",
            "(iv) Max of L1: 26 , Max of L2: 29\n",
            "(v) Sum of L1: 175 , Sum of L2: 203\n"
          ]
        }
      ]
    },
    {
      "cell_type": "code",
      "source": [
        "import random\n",
        "\n",
        "nums = [random.randint(100, 900) for _ in range(100)]\n",
        "\n",
        "# (i) All odd numbers\n",
        "odd_nums = [x for x in nums if x % 2 != 0]\n",
        "print(\"Odd count:\", len(odd_nums))\n",
        "\n",
        "# (ii) All even numbers\n",
        "even_nums = [x for x in nums if x % 2 == 0]\n",
        "print(\"Even count:\", len(even_nums))\n",
        "\n",
        "# (iii) All prime numbers\n",
        "def is_prime(n):\n",
        "    if n < 2:\n",
        "        return False\n",
        "    for i in range(2, int(n**0.5)+1):\n",
        "        if n % i == 0:\n",
        "            return False\n",
        "    return True\n",
        "\n",
        "prime_nums = [x for x in nums if is_prime(x)]\n",
        "print(\"Prime count:\", len(prime_nums))\n"
      ],
      "metadata": {
        "colab": {
          "base_uri": "https://localhost:8080/"
        },
        "id": "UjT3BmztLwpJ",
        "outputId": "9ccab9ed-7dc1-4ae4-c3d6-004ae46e107d"
      },
      "execution_count": 5,
      "outputs": [
        {
          "output_type": "stream",
          "name": "stdout",
          "text": [
            "Odd count: 58\n",
            "Even count: 42\n",
            "Prime count: 15\n"
          ]
        }
      ]
    },
    {
      "cell_type": "code",
      "source": [
        "D = {1: \"One\", 2: \"Two\", 3: \"Three\", 4: \"Four\", 5: \"Five\"}\n",
        "\n",
        "with open(\"dictionary_output.txt\", \"w\") as file:\n",
        "    for k, v in D.items():\n",
        "        file.write(f\"{k}, {v}\\n\")\n"
      ],
      "metadata": {
        "id": "DN7JkLLGL06A"
      },
      "execution_count": 6,
      "outputs": []
    },
    {
      "cell_type": "code",
      "source": [
        "L = [\"One\", \"Two\", \"Three\", \"Four\", \"Five\"]\n",
        "\n",
        "with open(\"length_output.txt\", \"w\") as file:\n",
        "    for word in L:\n",
        "        file.write(f\"{word}, {len(word)}\\n\")\n"
      ],
      "metadata": {
        "id": "4q4d53IoL3pB"
      },
      "execution_count": 7,
      "outputs": []
    },
    {
      "cell_type": "code",
      "source": [
        "import string\n",
        "\n",
        "with open(\"random_strings.txt\", \"w\") as file:\n",
        "    for _ in range(100):\n",
        "        length = random.randint(10, 15)\n",
        "        rand_str = ''.join(random.choices(string.ascii_letters, k=length))\n",
        "        file.write(rand_str + \"\\n\")\n"
      ],
      "metadata": {
        "id": "J8n2EGQTL5H2"
      },
      "execution_count": 9,
      "outputs": []
    },
    {
      "cell_type": "code",
      "source": [
        "with open(\"primes_600_800.txt\", \"w\") as file:\n",
        "    for num in range(600, 801):\n",
        "        if is_prime(num):\n",
        "            file.write(str(num) + \"\\n\")\n"
      ],
      "metadata": {
        "id": "D7DYW1O8L9Z_"
      },
      "execution_count": 10,
      "outputs": []
    },
    {
      "cell_type": "code",
      "source": [
        "import time\n",
        "\n",
        "start = time.time()\n",
        "\n",
        "# Sample work (replace with any code to test)\n",
        "for i in range(1, 100000):\n",
        "    pass\n",
        "\n",
        "end = time.time()\n",
        "print(\"Time taken:\", end - start, \"seconds\")\n"
      ],
      "metadata": {
        "colab": {
          "base_uri": "https://localhost:8080/"
        },
        "id": "hptKEv_qMKxr",
        "outputId": "4be0e283-477c-4776-f5e2-1b796b526aec"
      },
      "execution_count": 11,
      "outputs": [
        {
          "output_type": "stream",
          "name": "stdout",
          "text": [
            "Time taken: 0.004885673522949219 seconds\n"
          ]
        }
      ]
    },
    {
      "cell_type": "code",
      "source": [
        "import random\n",
        "import time\n",
        "import matplotlib.pyplot as plt\n",
        "\n",
        "sizes = [5000, 10000, 15000, 20000, 25000]\n",
        "times = []\n",
        "\n",
        "for size in sizes:\n",
        "    lst = [random.randint(1, 100000) for _ in range(size)]\n",
        "    start = time.time()\n",
        "    lst.sort()\n",
        "    end = time.time()\n",
        "    times.append(end - start)\n",
        "\n",
        "# Print table values\n",
        "for i in range(len(sizes)):\n",
        "    print(f\"{sizes[i]} elements sorted in {times[i]:.4f} seconds\")\n",
        "\n",
        "# Plotting the graph\n",
        "plt.plot(sizes, times, marker='o')\n",
        "plt.title('Time Taken to Sort Lists of Varying Sizes')\n",
        "plt.xlabel('Number of Elements')\n",
        "plt.ylabel('Time Taken (seconds)')\n",
        "plt.grid(True)\n",
        "plt.show()\n"
      ],
      "metadata": {
        "colab": {
          "base_uri": "https://localhost:8080/",
          "height": 559
        },
        "id": "iMdL5Z9IMMV7",
        "outputId": "0f09df11-b1b3-45f1-e7d4-e952587efce3"
      },
      "execution_count": 12,
      "outputs": [
        {
          "output_type": "stream",
          "name": "stdout",
          "text": [
            "5000 elements sorted in 0.0011 seconds\n",
            "10000 elements sorted in 0.0024 seconds\n",
            "15000 elements sorted in 0.0082 seconds\n",
            "20000 elements sorted in 0.0054 seconds\n",
            "25000 elements sorted in 0.0071 seconds\n"
          ]
        },
        {
          "output_type": "display_data",
          "data": {
            "text/plain": [
              "<Figure size 640x480 with 1 Axes>"
            ],
            "image/png": "[encoded data removed]"
          },
          "metadata": {}
        }
      ]
    },
    {
      "cell_type": "code",
      "source": [
        "students = {\n",
        "    \"Amit\": [80, 85, 78, 90, 88],\n",
        "    \"Neha\": [70, 75, 72, 78, 80],\n",
        "    \"Raj\": [90, 92, 95, 89, 94],\n",
        "    \"Simran\": [60, 65, 70, 68, 62],\n",
        "    \"Anil\": [85, 88, 82, 87, 90]\n",
        "}\n",
        "\n",
        "averages = {name: sum(marks)/len(marks) for name, marks in students.items()}\n",
        "\n",
        "max_student = max(averages, key=averages.get)\n",
        "min_student = min(averages, key=averages.get)\n",
        "\n",
        "print(f\"Maximum Average: {max_student} → {averages[max_student]}\")\n",
        "print(f\"Minimum Average: {min_student} → {averages[min_student]}\")\n"
      ],
      "metadata": {
        "colab": {
          "base_uri": "https://localhost:8080/"
        },
        "id": "15jcOA2BMQur",
        "outputId": "5c8ec0be-d52c-47c4-d955-7cf1fafdc09e"
      },
      "execution_count": 13,
      "outputs": [
        {
          "output_type": "stream",
          "name": "stdout",
          "text": [
            "Maximum Average: Raj → 92.0\n",
            "Minimum Average: Simran → 65.0\n"
          ]
        }
      ]
    },
    {
      "cell_type": "code",
      "source": [],
      "metadata": {
        "id": "-qmbi-_tMTrE"
      },
      "execution_count": null,
      "outputs": []
    }
  ]
}